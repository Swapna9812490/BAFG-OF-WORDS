{
  "nbformat": 4,
  "nbformat_minor": 0,
  "metadata": {
    "colab": {
      "provenance": []
    },
    "kernelspec": {
      "name": "python3",
      "display_name": "Python 3"
    },
    "language_info": {
      "name": "python"
    }
  },
  "cells": [
    {
      "cell_type": "code",
      "execution_count": 1,
      "metadata": {
        "colab": {
          "base_uri": "https://localhost:8080/"
        },
        "id": "N6qlY1f1pRv4",
        "outputId": "482c2c2c-307d-4d0b-c54a-daa2de9c6b40"
      },
      "outputs": [
        {
          "output_type": "stream",
          "name": "stdout",
          "text": [
            "Enter number of documents: 2\n",
            "Enter document 1: She enjoys playing the piano.\n",
            "Enter document 2: The dog barked loudly\n",
            "\n",
            "📌 Bag of Words Representation:\n",
            "   barked  dog  enjoys  loudly  piano  playing  she  the\n",
            "0       0    0       1       0      1        1    1    1\n",
            "1       1    1       0       1      0        0    0    1\n",
            "\n",
            "📌 TF-IDF Representation:\n",
            "   barked    dog  enjoys  loudly  piano  playing    she    the\n",
            "0   0.000  0.000   0.471   0.000  0.471    0.471  0.471  0.335\n",
            "1   0.534  0.534   0.000   0.534  0.000    0.000  0.000  0.380\n"
          ]
        }
      ],
      "source": [
        "# 📌 Import libraries\n",
        "from sklearn.feature_extraction.text import CountVectorizer, TfidfVectorizer\n",
        "import pandas as pd\n",
        "# Step 1: Take input at runtime\n",
        "n = int(input(\"Enter number of documents: \"))\n",
        "docs = []\n",
        "for i in range(n):\n",
        " text = input(f\"Enter document {i+1}: \")\n",
        " docs.append(text)\n",
        "# ---------------------------\n",
        "# Bag of Words (BoW) Model\n",
        "# ---------------------------\n",
        "bow_vectorizer = CountVectorizer()\n",
        "bow_matrix = bow_vectorizer.fit_transform(docs)\n",
        "bow_df = pd.DataFrame(bow_matrix.toarray(),\n",
        " columns=bow_vectorizer.get_feature_names_out())\n",
        "print(\"\\n📌 Bag of Words Representation:\")\n",
        "print(bow_df)\n",
        "# ---------------------------\n",
        "# TF-IDF Model\n",
        "# ---------------------------\n",
        "tfidf_vectorizer = TfidfVectorizer()\n",
        "tfidf_matrix = tfidf_vectorizer.fit_transform(docs)\n",
        "tfidf_df = pd.DataFrame(tfidf_matrix.toarray(),\n",
        " columns=tfidf_vectorizer.get_feature_names_out())\n",
        "print(\"\\n📌 TF-IDF Representation:\")\n",
        "print(tfidf_df.round(3))"
      ]
    }
  ]
}